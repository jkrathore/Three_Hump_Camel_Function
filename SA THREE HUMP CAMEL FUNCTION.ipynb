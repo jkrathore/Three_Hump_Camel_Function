{
 "cells": [
  {
   "cell_type": "markdown",
   "metadata": {},
   "source": [
    "THREE-HUMP CAMEL FUNCTION\n",
    "\n",
    "f(x) = 2*x^2 - 1.05*x^4+ (x^6/6) + x*y + y^2"
   ]
  },
  {
   "cell_type": "code",
   "execution_count": 36,
   "metadata": {},
   "outputs": [],
   "source": [
    "import numpy as np\n",
    "import matplotlib.pyplot as plt"
   ]
  },
  {
   "cell_type": "code",
   "execution_count": 37,
   "metadata": {},
   "outputs": [],
   "source": [
    "x0 = 1\n",
    "y0 = 1"
   ]
  },
  {
   "cell_type": "code",
   "execution_count": 38,
   "metadata": {},
   "outputs": [],
   "source": [
    "k = 0.1\n",
    "T0 = 1000\n",
    "M = 300\n",
    "N = 15\n",
    "alpha = 0.85"
   ]
  },
  {
   "cell_type": "code",
   "execution_count": 39,
   "metadata": {},
   "outputs": [],
   "source": [
    "z_int = 2*x0**2 - 1.05*x0**4 + ((x0**6)/6) + x0*y0 + y0**2"
   ]
  },
  {
   "cell_type": "code",
   "execution_count": 40,
   "metadata": {},
   "outputs": [
    {
     "name": "stdout",
     "output_type": "stream",
     "text": [
      "Initial X is 1.000\n",
      "Initial Y is 1.000\n",
      "Initial Z is 3.117\n"
     ]
    }
   ],
   "source": [
    "print(\"Initial X is %.3f\" % x0)\n",
    "print(\"Initial Y is %.3f\" % y0)\n",
    "print(\"Initial Z is %.3f\" % z_int)"
   ]
  },
  {
   "cell_type": "code",
   "execution_count": 41,
   "metadata": {},
   "outputs": [],
   "source": [
    "temp = []\n",
    "min_z = []"
   ]
  },
  {
   "cell_type": "code",
   "execution_count": 42,
   "metadata": {},
   "outputs": [
    {
     "name": "stdout",
     "output_type": "stream",
     "text": [
      "X is -0.001\n",
      "Y is -0.001\n",
      "Final OF is 0.000\n"
     ]
    },
    {
     "name": "stderr",
     "output_type": "stream",
     "text": [
      "C:\\Users\\jitendra.j.kumar3\\AppData\\Local\\Continuum\\anaconda3\\lib\\site-packages\\ipykernel_launcher.py:30: RuntimeWarning: overflow encountered in exp\n",
      "C:\\Users\\jitendra.j.kumar3\\AppData\\Local\\Continuum\\anaconda3\\lib\\site-packages\\ipykernel_launcher.py:30: RuntimeWarning: divide by zero encountered in double_scalars\n"
     ]
    }
   ],
   "source": [
    "for i in range(M):\n",
    "    for j in range(N):\n",
    "        \n",
    "        xt = 0\n",
    "        yt = 0\n",
    "        \n",
    "        ran_x_1 = np.random.rand()\n",
    "        ran_x_2 = np.random.rand()\n",
    "        ran_y_1 = np.random.rand()\n",
    "        ran_y_2 = np.random.rand()\n",
    "        \n",
    "        if ran_x_1 >= 0.5:\n",
    "            x1 = k*ran_x_2\n",
    "        else:\n",
    "            x1 = -k*ran_x_2\n",
    "        \n",
    "        if ran_y_1 >= 0.5:\n",
    "            y1 = k*ran_y_2\n",
    "        else:\n",
    "            y1 = -k*ran_y_2\n",
    "        \n",
    "        xt = x0 + x1\n",
    "        yt = y0 + y1\n",
    "        \n",
    "        of_new = 2*xt**2 - 1.05*xt**4 + ((xt**6)/6) + xt*yt + yt**2\n",
    "        \n",
    "        of_current = 2*x0**2 - 1.05*x0**4 + ((x0**6)/6) + x0*y0 + y0**2\n",
    "        \n",
    "        ran_1 = np.random.rand()\n",
    "        form = 1/(np.exp((of_new - of_current)/T0))\n",
    "        \n",
    "        if of_new <= of_current:\n",
    "            x0 = xt\n",
    "            y0 = yt\n",
    "        elif ran_1 <= form:\n",
    "            x0 = x1\n",
    "            y0 = yt\n",
    "        else:\n",
    "            x0 = x0\n",
    "            y0 = y0\n",
    "    temp = np.append(temp, T0)\n",
    "    min_z = np.append(min_z, of_current)\n",
    "    \n",
    "    T0 = alpha*T0\n",
    "    \n",
    "print(\"X is %.3f\" % x0)\n",
    "print(\"Y is %.3f\" % y0)\n",
    "print(\"Final OF is %.3f\" % of_current)\n",
    "        "
   ]
  },
  {
   "cell_type": "code",
   "execution_count": 43,
   "metadata": {},
   "outputs": [
    {
     "data": {
      "image/png": "[encoded data removed]",
      "text/plain": [
       "<matplotlib.figure.Figure at 0x1e552f6b748>"
      ]
     },
     "metadata": {},
     "output_type": "display_data"
    }
   ],
   "source": [
    "plt.plot(temp, min_z)\n",
    "plt.title(\"Z vs. Temp.\", fontsize = 20, fontweight = 'bold')\n",
    "plt.xlabel(\"Temp.\", fontsize = 18, fontweight = 'bold')\n",
    "plt.ylabel(\"Z\", fontsize = 18, fontweight = 'bold')\n",
    "plt.xlim(1000,0)\n",
    "plt.xticks(np.arange(min(temp), max(temp), 100), fontweight = 'bold')\n",
    "plt.yticks(fontweight = 'bold')\n",
    "plt.show()"
   ]
  },
  {
   "cell_type": "code",
   "execution_count": null,
   "metadata": {},
   "outputs": [],
   "source": []
  }
 ],
 "metadata": {
  "kernelspec": {
   "display_name": "Python 3",
   "language": "python",
   "name": "python3"
  },
  "language_info": {
   "codemirror_mode": {
    "name": "ipython",
    "version": 3
   },
   "file_extension": ".py",
   "mimetype": "text/x-python",
   "name": "python",
   "nbconvert_exporter": "python",
   "pygments_lexer": "ipython3",
   "version": "3.6.4"
  }
 },
 "nbformat": 4,
 "nbformat_minor": 2
}
